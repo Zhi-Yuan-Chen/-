{
 "cells": [
  {
   "cell_type": "markdown",
   "metadata": {},
   "source": [
    "# 图神经网络GCN,GSAGE,GAT代码实现\n",
    "\n",
    "该代码参照了知乎博主`小虎AI珏爷`的专栏`知识图谱&GNN`"
   ]
  },
  {
   "cell_type": "code",
   "execution_count": 2,
   "metadata": {},
   "outputs": [],
   "source": [
    "from torch_geometric.datasets import Planetoid\n",
    "import torch\n",
    "import torch.nn.functional as F\n",
    "from torch_geometric.nn import MessagePassing\n",
    "from torch_geometric.utils import add_self_loops, degree\n",
    "import networkx as nx\n",
    "import numpy as np\n",
    "import matplotlib.pyplot as plt\n"
   ]
  },
  {
   "cell_type": "markdown",
   "metadata": {},
   "source": [
    "## 图结构及相关数据形式\n",
    "图用于建模对象（节点）之间的成对关系（边）。PyG中的单个图由torch_geometric.data.Data的一个实例描述。默认情况下包含以下属性：\n",
    "* data.x: 节点特征矩阵，形状为[num_nodes,num_node_features]\n",
    "* data.edge_index: COO格式的图连接，形状为 [2,num_edges]，类型为torch.long。\n",
    "* data.edge_attr: 边特征矩阵，形状为 [num_edges,num_edge_features]\n",
    "* data.y: 要训练的目标（可能具有任意形状）。比如，对于node-level任务，形状为[num_nodes, *]，对于graph-level任务，形状为[1, *] 。\n",
    "* data.pos: 节点位置矩阵，形状为[num_nodes,num_dimensions]"
   ]
  },
  {
   "cell_type": "code",
   "execution_count": 3,
   "metadata": {},
   "outputs": [
    {
     "data": {
      "text/plain": [
       "Data(x=[3, 1], edge_index=[2, 4])"
      ]
     },
     "execution_count": 3,
     "metadata": {},
     "output_type": "execute_result"
    }
   ],
   "source": [
    "import torch\n",
    "from torch_geometric.data import Data\n",
    "edge_index = torch.tensor([[0, 1],\n",
    "                           [1, 0],\n",
    "                           [1, 2],\n",
    "                           [2, 1]], dtype=torch.long)\n",
    "x = torch.tensor([[-1], [0], [1]], dtype=torch.float)\n",
    "data = Data(x=x, edge_index=edge_index.t().contiguous())\n",
    "#x:节点特征矩阵 \n",
    "data"
   ]
  },
  {
   "cell_type": "markdown",
   "metadata": {},
   "source": [
    "## 相关数据集准备\n",
    "PyG包含大量常用基准数据集，例如，所有Planetoid数据集（Cora、Citeseer、Pubmed），所有图分类数据集http://graphkernels.cs.tu-dortmund.de以及它们的清理版本、QM7和QM9数据集，以及一些3D网格/点云数据集，如FAUST、ModelNet10/40和ShapeNet。\n",
    "\n",
    "数据集的初始化将自动下载其原始文件，并将其处理为前面描述的数据格式。比如，对于加载ENZYMES数据集，包含有600个graphs，有6个类别。"
   ]
  },
  {
   "cell_type": "code",
   "execution_count": 4,
   "metadata": {},
   "outputs": [],
   "source": [
    "from torch_geometric.datasets import TUDataset\n",
    "dataset = TUDataset(root='/tmp/ENZYMES', name='ENZYMES')"
   ]
  },
  {
   "cell_type": "code",
   "execution_count": 5,
   "metadata": {},
   "outputs": [
    {
     "name": "stdout",
     "output_type": "stream",
     "text": [
      "len(dataset)-> 600\n",
      "dataset.num_classes-> 6\n",
      "dataset.num_node_features-> 3\n"
     ]
    }
   ],
   "source": [
    "print('len(dataset)->',len(dataset))\n",
    "#600个graph\n",
    "print('dataset.num_classes->',dataset.num_classes)\n",
    "#6个类别\n",
    "print('dataset.num_node_features->',dataset.num_node_features)\n",
    "#每个节点有三个特征"
   ]
  },
  {
   "cell_type": "code",
   "execution_count": 6,
   "metadata": {},
   "outputs": [
    {
     "data": {
      "text/plain": [
       "Data(edge_index=[2, 168], x=[37, 3], y=[1])"
      ]
     },
     "execution_count": 6,
     "metadata": {},
     "output_type": "execute_result"
    }
   ],
   "source": [
    "data = dataset[0]\n",
    "data"
   ]
  },
  {
   "cell_type": "code",
   "execution_count": 7,
   "metadata": {},
   "outputs": [
    {
     "data": {
      "text/plain": [
       "True"
      ]
     },
     "execution_count": 7,
     "metadata": {},
     "output_type": "execute_result"
    }
   ],
   "source": [
    "data.is_undirected()"
   ]
  },
  {
   "cell_type": "code",
   "execution_count": 8,
   "metadata": {},
   "outputs": [
    {
     "name": "stdout",
     "output_type": "stream",
     "text": [
      "ENZYMES(540)\n",
      "ENZYMES(60)\n"
     ]
    }
   ],
   "source": [
    "'''划分数据集'''\n",
    "train_dataset = dataset[:540]\n",
    "test_dataset = dataset[540:]\n",
    "print(train_dataset)\n",
    "print(test_dataset)"
   ]
  },
  {
   "cell_type": "code",
   "execution_count": 9,
   "metadata": {},
   "outputs": [
    {
     "name": "stdout",
     "output_type": "stream",
     "text": [
      "ENZYMES(600)\n",
      "ENZYMES(600)\n"
     ]
    }
   ],
   "source": [
    "'''打乱数据集'''\n",
    "dataset = dataset.shuffle()\n",
    "print(dataset)\n",
    "'''另外一种打乱的方式'''\n",
    "perm = torch.randperm(len(dataset))\n",
    "dataset = dataset[perm]\n",
    "print(dataset)"
   ]
  },
  {
   "cell_type": "markdown",
   "metadata": {},
   "source": [
    "### $Cora$数据集"
   ]
  },
  {
   "cell_type": "code",
   "execution_count": 10,
   "metadata": {},
   "outputs": [
    {
     "name": "stderr",
     "output_type": "stream",
     "text": [
      "Downloading https://github.com/kimiyoung/planetoid/raw/master/data/ind.cora.x\n",
      "Downloading https://github.com/kimiyoung/planetoid/raw/master/data/ind.cora.tx\n",
      "Downloading https://github.com/kimiyoung/planetoid/raw/master/data/ind.cora.allx\n",
      "Downloading https://github.com/kimiyoung/planetoid/raw/master/data/ind.cora.y\n",
      "Downloading https://github.com/kimiyoung/planetoid/raw/master/data/ind.cora.ty\n",
      "Downloading https://github.com/kimiyoung/planetoid/raw/master/data/ind.cora.ally\n",
      "Downloading https://github.com/kimiyoung/planetoid/raw/master/data/ind.cora.graph\n",
      "Downloading https://github.com/kimiyoung/planetoid/raw/master/data/ind.cora.test.index\n",
      "Processing...\n",
      "Done!\n"
     ]
    }
   ],
   "source": [
    "from torch_geometric.datasets import Planetoid\n",
    "dataset = Planetoid(root='/tmp/Cora', name='Cora')"
   ]
  },
  {
   "cell_type": "code",
   "execution_count": 11,
   "metadata": {},
   "outputs": [
    {
     "name": "stdout",
     "output_type": "stream",
     "text": [
      "len(dataset)-> 1\n",
      "dataset.num_classes-> 7\n",
      "dataset.num_node_features-> 1433\n"
     ]
    }
   ],
   "source": [
    "print('len(dataset)->',len(dataset))\n",
    "print('dataset.num_classes->',dataset.num_classes)\n",
    "print('dataset.num_node_features->',dataset.num_node_features)"
   ]
  },
  {
   "cell_type": "code",
   "execution_count": 13,
   "metadata": {},
   "outputs": [
    {
     "name": "stdout",
     "output_type": "stream",
     "text": [
      "Data(x=[2708, 1433], edge_index=[2, 10556], y=[2708], train_mask=[2708], val_mask=[2708], test_mask=[2708])\n",
      "data.is_undirected()-> True\n",
      "data.train_mask.sum().item()-> 140\n",
      "data.val_mask.sum().item()-> 500\n",
      "data.test_mask.sum().item() 1000\n"
     ]
    }
   ],
   "source": [
    "data = dataset[0]\n",
    "print(data)\n",
    "\"\"\"\n",
    "train_mask:训练集的mask向量。\n",
    "val_mask：验证集的mask向量。\n",
    "test_mask：测试集的mask向量。\n",
    "\"\"\"\n",
    "print('data.is_undirected()->',data.is_undirected())\n",
    "print('data.train_mask.sum().item()->',data.train_mask.sum().item())\n",
    "print('data.val_mask.sum().item()->',data.val_mask.sum().item())\n",
    "print('data.test_mask.sum().item()',data.test_mask.sum().item())"
   ]
  },
  {
   "cell_type": "markdown",
   "metadata": {},
   "source": [
    "### 微批次"
   ]
  },
  {
   "cell_type": "code",
   "execution_count": 14,
   "metadata": {},
   "outputs": [],
   "source": [
    "'''神经网络通常以分批方式进行训练。PyG通过创建稀疏块对角邻接矩阵，\n",
    "并在节点维度中连接特征矩阵和目标矩阵，在小批量上实现并行化。'''\n",
    "from torch_geometric.datasets import TUDataset\n",
    "from torch_geometric.loader import DataLoader\n",
    "\n",
    "dataset = TUDataset(root='/tmp/ENZYMES', name='ENZYMES', use_node_attr=True)\n",
    "loader = DataLoader(dataset, batch_size=32, shuffle=True)"
   ]
  },
  {
   "cell_type": "code",
   "execution_count": 16,
   "metadata": {},
   "outputs": [
    {
     "name": "stdout",
     "output_type": "stream",
     "text": [
      "batch-> DataBatch(edge_index=[2, 4108], x=[1023, 21], y=[32], batch=[1023], ptr=[33])\n",
      "batch.num_graphs-> 32\n"
     ]
    }
   ],
   "source": [
    "for batch in loader:\n",
    "    print('batch->',batch)\n",
    "    print('batch.num_graphs->',batch.num_graphs)\n",
    "    break\n",
    "'''batch是一个列向量，它将每个节点映射到批次中各自的图'''"
   ]
  },
  {
   "cell_type": "markdown",
   "metadata": {},
   "source": [
    "### 数据变换\n",
    "Transforms是torchvision中变换图像和执行增强的常用方法。PyG自带了自己的transforms，它期望一个数据对象作为输入，并返回一个新的转换后的数据对象。，可以使用`torch_geometric.transforms.Compose`来组合多个转换操作。Transforms操作可以在保存数据集到磁盘之前或者访问数据集中的graph之前进行实现。\n",
    "\n",
    "可以通过变换从3D点云（ShapeNet）生成最近邻图，将点云数据集转换为图数据集。"
   ]
  },
  {
   "cell_type": "code",
   "execution_count": 19,
   "metadata": {},
   "outputs": [
    {
     "name": "stderr",
     "output_type": "stream",
     "text": [
      "Using existing file shapenetcore_partanno_segmentation_benchmark_v0_normal.zip\n",
      "Extracting \\tmp\\ShapeNet\\shapenetcore_partanno_segmentation_benchmark_v0_normal.zip\n",
      "Processing...\n",
      "Done!\n"
     ]
    },
    {
     "data": {
      "text/plain": [
       "Data(x=[2518, 3], y=[2518], pos=[2518, 3], category=[1], edge_index=[2, 15108])"
      ]
     },
     "execution_count": 19,
     "metadata": {},
     "output_type": "execute_result"
    }
   ],
   "source": [
    "'''通过变换从3D点云（ShapeNet）生成最近邻图，将点云数据集转换为图数据集'''\n",
    "import torch_geometric.transforms as T\n",
    "from torch_geometric.datasets import ShapeNet\n",
    "\n",
    "dataset = ShapeNet(root='/tmp/ShapeNet', categories=['Airplane'],\n",
    "                    pre_transform=T.KNNGraph(k=6))\n",
    "\n",
    "dataset[0]"
   ]
  },
  {
   "cell_type": "code",
   "execution_count": 20,
   "metadata": {},
   "outputs": [
    {
     "data": {
      "text/plain": [
       "Data(x=[2518, 3], y=[2518], pos=[2518, 3], category=[1], edge_index=[2, 15108])"
      ]
     },
     "execution_count": 20,
     "metadata": {},
     "output_type": "execute_result"
    }
   ],
   "source": [
    "\"\"\" 使用transformer参数随机增强数据对象。 \"\"\"\n",
    "import torch_geometric.transforms as T\n",
    "from torch_geometric.datasets import ShapeNet\n",
    "\n",
    "dataset = ShapeNet(root='/tmp/ShapeNet', categories=['Airplane'],\n",
    "                    pre_transform=T.KNNGraph(k=6),\n",
    "                    transform=T.RandomJitter(0.01))\n",
    "\n",
    "dataset[0]"
   ]
  },
  {
   "cell_type": "markdown",
   "metadata": {},
   "source": [
    "# 谱方法$GCN$实现（$Cora$引文节点分类例子）\n",
    "\n",
    "$f\\left(H^{(l)},A\\right)=\\sigma\\left(\\hat D^{-\\frac12}\\hat A\\hat D^{-\\frac12}H^{(l)}W^{(l)}\\right)$\n",
    "\n",
    "其中$\\hat{A}=A+I$,其中$I$是单位矩阵，$\\widehat{D}$是$A$的对角节点度矩阵"
   ]
  },
  {
   "cell_type": "code",
   "execution_count": 21,
   "metadata": {},
   "outputs": [],
   "source": [
    "\"\"\" 加载数据 \"\"\"\n",
    "from torch_geometric.datasets import Planetoid\n",
    "dataset = Planetoid(root='/tmp/Cora', name='Cora')"
   ]
  },
  {
   "cell_type": "code",
   "execution_count": 22,
   "metadata": {},
   "outputs": [],
   "source": [
    "\"\"\" 实现两层的GCN \"\"\"\n",
    "import torch\n",
    "import torch.nn.functional as F\n",
    "from torch_geometric.nn import GCNConv\n",
    "\n",
    "class GCN(torch.nn.Module):\n",
    "    def __init__(self):\n",
    "        super().__init__()\n",
    "        self.conv1 = GCNConv(dataset.num_node_features, 16)\n",
    "        # in_channels: int, out_channels: int\n",
    "        self.conv2 = GCNConv(16, dataset.num_classes)\n",
    "\n",
    "    def forward(self, data):\n",
    "        #定义前向运算过程\n",
    "        x, edge_index = data.x, data.edge_index\n",
    "        x = self.conv1(x, edge_index)\n",
    "        x = F.relu(x)\n",
    "        x = F.dropout(x, training=self.training)\n",
    "        x = self.conv2(x, edge_index)\n",
    "        return F.log_softmax(x, dim=1)\n",
    "        #其实就是对softmax值进行一个log\n",
    "\n",
    "device = torch.device('cuda' if torch.cuda.is_available() else 'cpu')\n",
    "model = GCN().to(device)\n",
    "# 用于将张量或模型移动到指定的设备上进行计算\n",
    "data = dataset[0].to(device)\n",
    "optimizer = torch.optim.Adam(model.parameters(), lr=0.01, weight_decay=5e-4)\n",
    "#params,lr,weight_decay：权重衰减（L2惩罚项）\n",
    "\n",
    "model.train()\n",
    "for epoch in range(200):\n",
    "    optimizer.zero_grad()\n",
    "    out = model(data)\n",
    "    loss = F.nll_loss(out[data.train_mask], data.y[data.train_mask])\n",
    "    loss.backward()\n",
    "    optimizer.step()"
   ]
  },
  {
   "cell_type": "code",
   "execution_count": 23,
   "metadata": {},
   "outputs": [
    {
     "name": "stdout",
     "output_type": "stream",
     "text": [
      "Accuracy: 0.7970\n"
     ]
    }
   ],
   "source": [
    "\"\"\" 对模型进行评估 \"\"\"\n",
    "model.eval()\n",
    "pred = model(data).argmax(dim=1)\n",
    "correct = (pred[data.test_mask] == data.y[data.test_mask]).sum()\n",
    "acc = int(correct) / int(data.test_mask.sum())\n",
    "print(f'Accuracy: {acc:.4f}')"
   ]
  },
  {
   "cell_type": "code",
   "execution_count": null,
   "metadata": {},
   "outputs": [],
   "source": [
    "import torch\n",
    "import torch_scatter\n",
    "import torch.nn as nn\n",
    "import torch.nn.functional as F\n",
    "\n",
    "import torch_geometric.nn as pyg_nn\n",
    "import torch_geometric.utils as pyg_utils\n",
    "\n",
    "from torch import Tensor\n",
    "from typing import Union, Tuple, Optional\n",
    "from torch_geometric.typing import (OptPairTensor, Adj, Size, NoneType,\n",
    "                                    OptTensor)\n",
    "\n",
    "from torch.nn import Parameter, Linear\n",
    "#PRW：https://pytorch.org/docs/stable/generated/torch.nn.parameter.Parameter.html\n",
    "from torch_sparse import SparseTensor, set_diag\n",
    "from torch_geometric.nn.conv import MessagePassing\n",
    "from torch_geometric.utils import remove_self_loops, add_self_loops, softmax\n",
    "\n",
    "class GNNStack(torch.nn.Module):\n",
    "    def __init__(self, input_dim, hidden_dim, output_dim, args, emb=False):\n",
    "        super(GNNStack, self).__init__()\n",
    "        conv_model = self.build_conv_model(args.model_type)  #GraphSage / GAT\n",
    "        self.convs = nn.ModuleList()\n",
    "        self.convs.append(conv_model(input_dim, hidden_dim))\n",
    "        assert (args.num_layers >= 1), 'Number of layers is not >=1'\n",
    "        \n",
    "        for l in range(args.num_layers-1):\n",
    "            self.convs.append(conv_model(args.heads * hidden_dim, hidden_dim))  \n",
    "\n",
    "        # post-message-passing\n",
    "        self.post_mp = nn.Sequential(\n",
    "            nn.Linear(args.heads * hidden_dim, hidden_dim), nn.Dropout(args.dropout), \n",
    "            nn.Linear(hidden_dim, output_dim))\n",
    "\n",
    "        self.dropout = args.dropout\n",
    "        self.num_layers = args.num_layers\n",
    "\n",
    "        self.emb = emb\n",
    "\n",
    "    def build_conv_model(self, model_type):\n",
    "        if model_type == 'GraphSage':\n",
    "            return GraphSage\n",
    "        elif model_type == 'GAT':\n",
    "            '''\n",
    "            当使用num heads>1应用GAT时，需要修改conv层的输入和输出维度（self.convs），确保下一层的输入dim为num_heads乘以上一层的输出尺寸。\n",
    "提示：如果想实现多头（multi-heads），需要在建立self.convs时改变self.convs.append(conv_model(hidden_dim * num_heads, hidden_dim))和post-message-passing中第一个nn.Linear(hidden_dim * num_heads, hidden_dim) \n",
    "         '''\n",
    "            return GAT\n",
    "\n",
    "    def forward(self, data):\n",
    "        x, edge_index, batch = data.x, data.edge_index, data.batch\n",
    "          \n",
    "        for i in range(self.num_layers):\n",
    "            x = self.convs[i](x, edge_index)\n",
    "            x = F.relu(x)\n",
    "            x = F.dropout(x, p=self.dropout,training=self.training)\n",
    "            \n",
    "\n",
    "        x = self.post_mp(x)\n",
    "\n",
    "        if self.emb == True:\n",
    "            return x\n",
    "\n",
    "        #Applies a softmax followed by a logarithm.\n",
    "        #https://pytorch.org/docs/stable/nn.functional.html#torch.nn.functional.log_softmax\n",
    "        return F.log_softmax(x, dim=1)\n",
    "       \n",
    "\n",
    "    def loss(self, pred, label):\n",
    "        #The negative log likelihood loss.\n",
    "        #https://pytorch.org/docs/stable/_modules/torch/nn/functional.html#nll_loss\n",
    "        return F.nll_loss(pred, label) "
   ]
  },
  {
   "cell_type": "markdown",
   "metadata": {},
   "source": [
    "# 归纳式GCN GraphSAGE实现\n",
    "\n",
    "GraphSAGE有两阶段聚合：\n",
    "* 阶段一 聚合节点的邻居:\n",
    "\n",
    "    $\\mathbf{h}_{N(v)}^{(l)}\\leftarrow\\operatorname{AGG}\\left(\\left\\{\\mathbf{h}_{u}^{(l-1)},\\forall u\\in N(v)\\right\\}\\right)$\n",
    "* 阶段二 更进一步聚合节点自己和邻居信息\n",
    "\n",
    "    $\\mathbf{h}_n^{(l)}\\leftarrow\\sigma\\left(\\mathbf{W}^{(l)}\\cdot\\mathrm{CONCT}\\left(\\mathbf{h}_0^{(l-1)},\\mathbf{h}_{N(v)}^{(l)}\\right)\\right)$"
   ]
  },
  {
   "cell_type": "markdown",
   "metadata": {},
   "source": [
    "实现一个通用GNN模块的实现，该模块可以插入任何自定义组件，包括GraphSage、GAT等"
   ]
  },
  {
   "cell_type": "code",
   "execution_count": 30,
   "metadata": {},
   "outputs": [],
   "source": [
    "import torch\n",
    "import torch_scatter\n",
    "import torch.nn as nn\n",
    "import torch.nn.functional as F\n",
    "\n",
    "import torch_geometric.nn as pyg_nn\n",
    "import torch_geometric.utils as pyg_utils\n",
    "\n",
    "from torch import Tensor\n",
    "from typing import Union, Tuple, Optional\n",
    "from torch_geometric.typing import (OptPairTensor, Adj, Size, NoneType,\n",
    "                                    OptTensor)\n",
    "\n",
    "from torch.nn import Parameter, Linear\n",
    "#PRW：https://pytorch.org/docs/stable/generated/torch.nn.parameter.Parameter.html\n",
    "from torch_sparse import SparseTensor, set_diag\n",
    "from torch_geometric.nn.conv import MessagePassing\n",
    "from torch_geometric.utils import remove_self_loops, add_self_loops, softmax\n",
    "\n",
    "class GNNStack(torch.nn.Module):\n",
    "    def __init__(self, input_dim, hidden_dim, output_dim, args, emb=False):\n",
    "        super(GNNStack, self).__init__()\n",
    "        conv_model = self.build_conv_model(args.model_type)  #GraphSage / GAT\n",
    "        self.convs = nn.ModuleList()\n",
    "        self.convs.append(conv_model(input_dim, hidden_dim))\n",
    "        assert (args.num_layers >= 1), 'Number of layers is not >=1'\n",
    "        \n",
    "        for l in range(args.num_layers-1):\n",
    "            self.convs.append(conv_model(args.heads * hidden_dim, hidden_dim))  \n",
    "\n",
    "        # post-message-passing\n",
    "        self.post_mp = nn.Sequential(\n",
    "            nn.Linear(args.heads * hidden_dim, hidden_dim), nn.Dropout(args.dropout), \n",
    "            nn.Linear(hidden_dim, output_dim))\n",
    "\n",
    "        self.dropout = args.dropout\n",
    "        self.num_layers = args.num_layers\n",
    "\n",
    "        self.emb = emb\n",
    "\n",
    "    def build_conv_model(self, model_type):\n",
    "        if model_type == 'GraphSage':\n",
    "            return GraphSage\n",
    "        elif model_type == 'GAT':\n",
    "            '''\n",
    "            当使用num heads>1应用GAT时，需要修改conv层的输入和输出维度（self.convs），确保下一层的输入dim为num_heads乘以上一层的输出尺寸。\n",
    "提示：如果想实现多头（multi-heads），需要在建立self.convs时改变self.convs.append(conv_model(hidden_dim * num_heads, hidden_dim))和post-message-passing中第一个nn.Linear(hidden_dim * num_heads, hidden_dim) \n",
    "         '''\n",
    "            return GAT\n",
    "\n",
    "    def forward(self, data):\n",
    "        x, edge_index, batch = data.x, data.edge_index, data.batch\n",
    "          \n",
    "        for i in range(self.num_layers):\n",
    "            x = self.convs[i](x, edge_index)\n",
    "            x = F.relu(x)\n",
    "            x = F.dropout(x, p=self.dropout,training=self.training)\n",
    "            \n",
    "\n",
    "        x = self.post_mp(x)\n",
    "\n",
    "        if self.emb == True:\n",
    "            return x\n",
    "\n",
    "        #Applies a softmax followed by a logarithm.\n",
    "        #https://pytorch.org/docs/stable/nn.functional.html#torch.nn.functional.log_softmax\n",
    "        return F.log_softmax(x, dim=1)\n",
    "       \n",
    "\n",
    "    def loss(self, pred, label):\n",
    "        #The negative log likelihood loss.\n",
    "        #https://pytorch.org/docs/stable/_modules/torch/nn/functional.html#nll_loss\n",
    "        return F.nll_loss(pred, label)  "
   ]
  },
  {
   "cell_type": "code",
   "execution_count": 24,
   "metadata": {},
   "outputs": [],
   "source": [
    "class GraphSage(MessagePassing):\n",
    "    def __init__(self, in_channels, out_channels, normalize = True,\n",
    "                 bias = False, **kwargs):  \n",
    "        super(GraphSage, self).__init__(**kwargs)\n",
    "        self.in_channels = in_channels\n",
    "        self.out_channels = out_channels\n",
    "        self.normalize = normalize\n",
    "        self.lin_l = None\n",
    "        self.lin_r = None\n",
    "\n",
    "        ############################################################################\n",
    "        #定义下面的message和update 函数所需的层。\n",
    "        # self.lin_l 是应用于中心节点嵌入的线性变换。\n",
    "        # self.lin_r 是应用于来自邻居的聚合message的线性变换。\n",
    "       \n",
    "        self.lin_l=Linear(in_channels,out_channels)  #Wl\n",
    "        self.lin_r=Linear(in_channels,out_channels)  #Wr\n",
    "\n",
    "        ############################################################################\n",
    "\n",
    "        self.reset_parameters()\n",
    "\n",
    "    def reset_parameters(self):\n",
    "        self.lin_l.reset_parameters()\n",
    "        self.lin_r.reset_parameters()\n",
    "\n",
    "    def forward(self, x, edge_index, size = None):\n",
    "        \"\"\"\"\"\"\n",
    "        out = None\n",
    "        ############################################################################\n",
    "        # 实现消息传递以及任何后处理（更新规则）\n",
    "        # 1. 首先调用propagate函数来进行消息传递。\n",
    "        #    1.1 有关更多信息，请参见此处: \n",
    "        #        https://pytorch-geometric.readthedocs.io/en/latest/notes/create_gnn.html\n",
    "        #    1.2 对中心（x_central）和邻居（x_neighbor）节点使用相同的表示，即x=（x，x）进行传播。\n",
    "        # 2. 使用skip connection更新节点嵌入。\n",
    "        # 3. 如果需要归一化, 使用L-2 normalization (定义在torch.nn.functional)\n",
    "\n",
    "        out=self.propagate(edge_index,x=(x,x),size=size)\n",
    "        x=self.lin_l(x)\n",
    "        out=self.lin_r(out)\n",
    "        out=out+x\n",
    "        if self.normalize:\n",
    "            out=F.normalize(out)\n",
    "        ############################################################################\n",
    "        return out\n",
    "\n",
    "    def message(self, x_j):\n",
    "        out = None\n",
    "        #propagte传入的中心节点和邻居节点的表示一样。\n",
    "        out=x_j\n",
    "        return out\n",
    "\n",
    "    def aggregate(self, inputs, index, dim_size = None):\n",
    "        out = None\n",
    "        # 沿其索引节点数的维度.\n",
    "        node_dim = self.node_dim\n",
    "        ############################################################################\n",
    "        # 实现平均聚合.\n",
    "        # 请参见此处，了解如何使用torch_scatter.scatter: \n",
    "        # https://pytorch-scatter.readthedocs.io/en/latest/functions/scatter.html#torch_scatter.scatter\n",
    "        out=torch_scatter.scatter(inputs,index,node_dim,dim_size=dim_size,reduce='mean')\n",
    "        ############################################################################\n",
    "        return out"
   ]
  },
  {
   "cell_type": "markdown",
   "metadata": {},
   "source": [
    "# 图注意力网络 GAT实现"
   ]
  },
  {
   "cell_type": "code",
   "execution_count": 25,
   "metadata": {},
   "outputs": [],
   "source": [
    "class GAT(MessagePassing):\n",
    "\n",
    "    def __init__(self, in_channels, out_channels, heads = 2,\n",
    "                 negative_slope = 0.2, dropout = 0., **kwargs):\n",
    "        super(GAT, self).__init__(node_dim=0, **kwargs)\n",
    "\n",
    "        self.in_channels = in_channels\n",
    "        self.out_channels = out_channels\n",
    "        self.heads = heads\n",
    "        self.negative_slope = negative_slope\n",
    "        self.dropout = dropout\n",
    "\n",
    "        self.lin_l = None\n",
    "        self.lin_r = None\n",
    "        self.att_l = None\n",
    "        self.att_r = None\n",
    "\n",
    "        ############################################################################\n",
    "        # self.lin_l是在消息传递之前应用于嵌入的线性变换。\n",
    "        # 注意线性层的尺寸，因为我们使用的是多头注意力。\n",
    "       \n",
    "        self.lin_l=Linear(in_channels,heads*out_channels) \n",
    "\n",
    "        ############################################################################\n",
    "\n",
    "        self.lin_r = self.lin_l  #W_r\n",
    "\n",
    "       \n",
    "\n",
    "        ############################################################################\n",
    "        # 定义注意力参数，需要考虑多头的情况\n",
    "        self.att_l = Parameter(torch.Tensor(1, heads, out_channels))\n",
    "        self.att_r = Parameter(torch.Tensor(1, heads, out_channels))\n",
    "\n",
    "        ############################################################################\n",
    "\n",
    "        self.reset_parameters()\n",
    "\n",
    "    def reset_parameters(self):\n",
    "        nn.init.xavier_uniform_(self.lin_l.weight)\n",
    "        nn.init.xavier_uniform_(self.lin_r.weight)\n",
    "        nn.init.xavier_uniform_(self.att_l)\n",
    "        nn.init.xavier_uniform_(self.att_r)\n",
    "        #https://pytorch.org/docs/stable/_modules/torch/nn/init.html#xavier_uniform_\n",
    "\n",
    "    def forward(self, x, edge_index, size = None):\n",
    "        \n",
    "        H, C = self.heads, self.out_channels\n",
    "\n",
    "        ############################################################################\n",
    "        # 主要逻辑实现函数，实现消息传递、预处理、后处理\n",
    "        # 1. 首先对节点嵌入应用线性变换，并将其拆分为多头。对源节点和目标节点使用相同的表示，但应用不同的线性权重（W_l和W_r）\n",
    "        # 2. 计算中心节点（alpha_l）和相邻节点（alpha_r）的alpha向量\n",
    "        # 3. 调用propagate函数进行消息传递。使得alpha = (alpha_l, alpha_r)传递参数。\n",
    "        # 4. 将输出转换回N*d的形状。\n",
    "\n",
    "        x_l=self.lin_l(x)\n",
    "        x_r=self.lin_r(x)\n",
    "        x_l=x_l.view(-1,H,C)\n",
    "        x_r=x_r.view(-1,H,C)\n",
    "        alpha_l = (x_l * self.att_l).sum(axis=1)  #*是逐元素相乘\n",
    "        alpha_r = (x_r * self.att_r).sum(axis=1)\n",
    "        out = self.propagate(edge_index, x=(x_l, x_r), alpha=(alpha_l, alpha_r),size=size)\n",
    "        out = out.view(-1, H * C)\n",
    "        return out\n",
    "\n",
    "\n",
    "    def message(self, x_j, alpha_j, alpha_i, index, ptr, size_i):\n",
    "\n",
    "        ############################################################################\n",
    "        # 实现message功能。将注意力放在message中\n",
    "        # 1. 使用alpha_i和alpha_j计算最终注意力权重，并应用leaky Relu。\n",
    "        # 2. 为所有节点计算邻居节点上的softmax。使用torch_geometric.utils.softmax而不是pytorch中的softmax。\n",
    "        # 3. 对注意权重（alpha）应用dropout。\n",
    "        # 4. 增加嵌入和注意力权重，输出应为形状 E * H * d。\n",
    "        # 5. ptr (LongTensor, 可选):如果给定，则根据CSR表示中的排序输入计算softmax。\n",
    "       \n",
    "        \n",
    "        #alpha：[E, C]\n",
    "        alpha = alpha_i + alpha_j  #leaky_relu的对象\n",
    "        alpha = F.leaky_relu(alpha,self.negative_slope)\n",
    "        alpha = softmax(alpha, index, ptr, size_i)\n",
    "        #https://pytorch-geometric.readthedocs.io/en/latest/modules/utils.html#torch-geometric-utils\n",
    "        #https://github.com/rusty1s/pytorch_geometric/blob/master/torch_geometric/utils/softmax.py\n",
    "       \n",
    "        \n",
    "        alpha = F.dropout(alpha, p=self.dropout, training=self.training).unsqueeze(1)  #[E,1,C]\n",
    "        out = x_j * alpha #[E,H,C]\n",
    "\n",
    "        ############################################################################\n",
    "\n",
    "        return out\n",
    "\n",
    "\n",
    "    def aggregate(self, inputs, index, dim_size = None):\n",
    "\n",
    "        ############################################################################\n",
    "        # 实现聚合函数\n",
    "        # 请参见此处，了解如何使用 torch_scatter.scatter: https://pytorch-scatter.readthedocs.io/en/latest/_modules/torch_scatter/scatter.html\n",
    "        # 请注意“reduce”参数与GraphSAGE中的参数不同\n",
    "       \n",
    "        out = torch_scatter.scatter(inputs, index, dim=self.node_dim, dim_size=dim_size, reduce='sum')\n",
    "\n",
    "        ############################################################################\n",
    "    \n",
    "        return out"
   ]
  },
  {
   "cell_type": "code",
   "execution_count": 26,
   "metadata": {},
   "outputs": [],
   "source": [
    "\"\"\" 构建优化器 \"\"\"\n",
    "import torch.optim as optim\n",
    "\n",
    "def build_optimizer(args, params):\n",
    "    weight_decay = args.weight_decay\n",
    "    filter_fn = filter(lambda p : p.requires_grad, params)\n",
    "    if args.opt == 'adam':\n",
    "        optimizer = optim.Adam(filter_fn, lr=args.lr, weight_decay=weight_decay)\n",
    "    elif args.opt == 'sgd':\n",
    "        optimizer = optim.SGD(filter_fn, lr=args.lr, momentum=0.95, weight_decay=weight_decay)\n",
    "    elif args.opt == 'rmsprop':\n",
    "        optimizer = optim.RMSprop(filter_fn, lr=args.lr, weight_decay=weight_decay)\n",
    "    elif args.opt == 'adagrad':\n",
    "        optimizer = optim.Adagrad(filter_fn, lr=args.lr, weight_decay=weight_decay)\n",
    "    if args.opt_scheduler == 'none':\n",
    "        return None, optimizer\n",
    "    elif args.opt_scheduler == 'step':\n",
    "        scheduler = optim.lr_scheduler.StepLR(optimizer, step_size=args.opt_decay_step, gamma=args.opt_decay_rate)\n",
    "    elif args.opt_scheduler == 'cos':\n",
    "        scheduler = optim.lr_scheduler.CosineAnnealingLR(optimizer, T_max=args.opt_restart)\n",
    "    return scheduler, optimizer"
   ]
  },
  {
   "cell_type": "code",
   "execution_count": 27,
   "metadata": {},
   "outputs": [],
   "source": [
    "import time\n",
    "\n",
    "import networkx as nx\n",
    "import numpy as np\n",
    "import torch\n",
    "import torch.optim as optim\n",
    "\n",
    "from torch_geometric.datasets import TUDataset\n",
    "from torch_geometric.datasets import Planetoid\n",
    "from torch_geometric.data import DataLoader\n",
    "\n",
    "import torch_geometric.nn as pyg_nn\n",
    "\n",
    "import matplotlib.pyplot as plt\n",
    "\n",
    "\n",
    "def train(dataset, args):\n",
    "    \n",
    "    print(\"节点分类任务，数据集大小:\", np.sum(dataset[0]['train_mask'].numpy()))\n",
    "    test_loader = loader = DataLoader(dataset, batch_size=args.batch_size, shuffle=True)\n",
    "\n",
    "    # build model\n",
    "    model = GNNStack(dataset.num_node_features, args.hidden_dim, dataset.num_classes, \n",
    "                            args)\n",
    "    scheduler, opt = build_optimizer(args, model.parameters())\n",
    "\n",
    "    # train\n",
    "    losses = []\n",
    "    test_accs = []\n",
    "    for epoch in range(args.epochs):\n",
    "        total_loss = 0\n",
    "        model.train()\n",
    "        for batch in loader:\n",
    "            opt.zero_grad()\n",
    "            pred = model(batch)\n",
    "            label = batch.y\n",
    "            pred = pred[batch.train_mask]\n",
    "            label = label[batch.train_mask]\n",
    "            loss = model.loss(pred, label)\n",
    "            loss.backward()\n",
    "            opt.step()\n",
    "            total_loss += loss.item() * batch.num_graphs\n",
    "        total_loss /= len(loader.dataset)\n",
    "        losses.append(total_loss)\n",
    "\n",
    "        if epoch % 10 == 0:\n",
    "          test_acc = test(test_loader, model)\n",
    "          test_accs.append(test_acc)\n",
    "        else:\n",
    "          test_accs.append(test_accs[-1])\n",
    "    return test_accs, losses\n",
    "\n",
    "def test(loader, model, is_validation=True):\n",
    "    model.eval()\n",
    "\n",
    "    correct = 0\n",
    "    for data in loader:\n",
    "        with torch.no_grad():\n",
    "            # max(dim=1) returns values, indices tuple; only need indices\n",
    "            pred = model(data).max(dim=1)[1]\n",
    "            label = data.y\n",
    "\n",
    "        mask = data.val_mask if is_validation else data.test_mask\n",
    "        # node classification: only evaluate on nodes in test set\n",
    "        pred = pred[mask]\n",
    "        label = data.y[mask]\n",
    "            \n",
    "        correct += pred.eq(label).sum().item()\n",
    "\n",
    "    total = 0\n",
    "    for data in loader.dataset:\n",
    "        total += torch.sum(data.val_mask if is_validation else data.test_mask).item()\n",
    "    return correct / total\n",
    "  \n",
    "class objectview(object):\n",
    "    def __init__(self, d):\n",
    "        self.__dict__ = d"
   ]
  },
  {
   "cell_type": "code",
   "execution_count": 28,
   "metadata": {},
   "outputs": [],
   "source": [
    "def main():\n",
    "    for args in [\n",
    "        {'model_type': 'GraphSage', 'dataset': 'cora', 'num_layers': 2, 'heads': 1, 'batch_size': 32, 'hidden_dim': 32, 'dropout': 0.5, 'epochs': 500, 'opt': 'adam', 'opt_scheduler': 'none', 'opt_restart': 0, 'weight_decay': 5e-3, 'lr': 0.01},\n",
    "    ]:\n",
    "        args = objectview(args)\n",
    "        for model in ['GraphSage', 'GAT']:\n",
    "            args.model_type = model\n",
    "\n",
    "            # Match the dimension.\n",
    "            if model == 'GAT':\n",
    "              args.heads = 2\n",
    "            else:\n",
    "              args.heads = 1\n",
    "\n",
    "            if args.dataset == 'cora':\n",
    "                dataset = Planetoid(root='/tmp/cora', name='Cora')\n",
    "            else:\n",
    "                raise NotImplementedError(\"Unknown dataset\") \n",
    "            test_accs, losses = train(dataset, args) \n",
    "\n",
    "            print(\"Maximum accuracy: {0}\".format(max(test_accs)))\n",
    "            print(\"Minimum loss: {0}\".format(min(losses)))\n",
    "\n",
    "            plt.title(dataset.name)\n",
    "            plt.plot(losses, label=\"training loss\" + \" - \" + args.model_type)\n",
    "            plt.plot(test_accs, label=\"test accuracy\" + \" - \" + args.model_type)\n",
    "        plt.legend()\n",
    "        plt.show()"
   ]
  },
  {
   "cell_type": "code",
   "execution_count": 31,
   "metadata": {},
   "outputs": [
    {
     "name": "stdout",
     "output_type": "stream",
     "text": [
      "节点分类任务，数据集大小: 140\n",
      "Maximum accuracy: 0.776\n",
      "Minimum loss: 0.114881731569767\n",
      "节点分类任务，数据集大小: 140\n",
      "Maximum accuracy: 0.78\n",
      "Minimum loss: 0.0279531292617321\n"
     ]
    },
    {
     "data": {
      "image/png": "[encoded data removed]",
      "text/plain": [
       "<Figure size 640x480 with 1 Axes>"
      ]
     },
     "metadata": {},
     "output_type": "display_data"
    }
   ],
   "source": [
    "main()"
   ]
  },
  {
   "cell_type": "code",
   "execution_count": null,
   "metadata": {},
   "outputs": [],
   "source": []
  }
 ],
 "metadata": {
  "kernelspec": {
   "display_name": "pytorchCpu",
   "language": "python",
   "name": "pytorch"
  },
  "language_info": {
   "codemirror_mode": {
    "name": "ipython",
    "version": 3
   },
   "file_extension": ".py",
   "mimetype": "text/x-python",
   "name": "python",
   "nbconvert_exporter": "python",
   "pygments_lexer": "ipython3",
   "version": "3.9.16"
  },
  "orig_nbformat": 4
 },
 "nbformat": 4,
 "nbformat_minor": 2
}
